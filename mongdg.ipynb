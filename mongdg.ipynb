{
 "cells": [
  {
   "attachments": {},
   "cell_type": "markdown",
   "metadata": {},
   "source": [
    "## MongoDb With Python and Pymongo"
   ]
  },
  {
   "attachments": {},
   "cell_type": "markdown",
   "metadata": {},
   "source": [
    "### Imports"
   ]
  },
  {
   "cell_type": "code",
   "execution_count": 3,
   "metadata": {},
   "outputs": [],
   "source": [
    "# Imports\n",
    "from pymongo import MongoClient\n",
    "import pandas as pd\n",
    "import json\n",
    "import matplotlib.pyplot as plt\n",
    "import seaborn as sns\n",
    "plt.style.use('seaborn-dark')"
   ]
  },
  {
   "attachments": {},
   "cell_type": "markdown",
   "metadata": {},
   "source": [
    "### Creating Connection"
   ]
  },
  {
   "cell_type": "code",
   "execution_count": 4,
   "metadata": {},
   "outputs": [],
   "source": [
    "# My Cluster from MongoDb Atlas\n",
    "cluster = 'mongodb+srv://**********@cluster0.by0skfk.mongodb.net/?retryWrites=true&w=majority'"
   ]
  },
  {
   "cell_type": "code",
   "execution_count": 5,
   "metadata": {},
   "outputs": [
    {
     "data": {
      "text/plain": [
       "['Investigations', 'admin', 'config', 'local']"
      ]
     },
     "execution_count": 5,
     "metadata": {},
     "output_type": "execute_result"
    }
   ],
   "source": [
    "# Client Init\n",
    "client = MongoClient('localhost', 27017)\n",
    "# Databases Lists\n",
    "client.list_database_names()"
   ]
  },
  {
   "cell_type": "code",
   "execution_count": 6,
   "metadata": {},
   "outputs": [
    {
     "data": {
      "text/plain": [
       "['DataSource']"
      ]
     },
     "execution_count": 6,
     "metadata": {},
     "output_type": "execute_result"
    }
   ],
   "source": [
    "# Open Database\n",
    "database = client['Investigations']\n",
    "# Collections Listed on My Database\n",
    "database.list_collection_names()"
   ]
  },
  {
   "cell_type": "code",
   "execution_count": 7,
   "metadata": {},
   "outputs": [],
   "source": [
    "# Open Collection \n",
    "collection = database['DataSource']"
   ]
  },
  {
   "attachments": {},
   "cell_type": "markdown",
   "metadata": {},
   "source": [
    "### Reading the Dataset with Pandas"
   ]
  },
  {
   "cell_type": "code",
   "execution_count": 8,
   "metadata": {},
   "outputs": [],
   "source": [
    "# Read DataSet with Pandas\n",
    "df = pd.read_excel('Dataset.xls')"
   ]
  },
  {
   "attachments": {},
   "cell_type": "markdown",
   "metadata": {},
   "source": [
    "### Loading Pandas Dataframe to MongoDB Collection"
   ]
  },
  {
   "cell_type": "code",
   "execution_count": 9,
   "metadata": {},
   "outputs": [
    {
     "data": {
      "text/plain": [
       "<pymongo.results.InsertManyResult at 0x21f682bfbb0>"
      ]
     },
     "execution_count": 9,
     "metadata": {},
     "output_type": "execute_result"
    }
   ],
   "source": [
    "# Loading Pandas Dataframe into MongoDB Collection\n",
    "records = json.loads(df.T.to_json()).values()\n",
    "collection.insert_many(records)"
   ]
  },
  {
   "attachments": {},
   "cell_type": "markdown",
   "metadata": {},
   "source": [
    "### Loading Data From MongoDB to Python List"
   ]
  },
  {
   "cell_type": "code",
   "execution_count": 10,
   "metadata": {},
   "outputs": [],
   "source": [
    "relevant_research = []\n",
    "for x in collection.find({'Categoría':'Relevante'}):\n",
    "    relevant_research.append(x)\n",
    "full_research = []\n",
    "for x in collection.find({}):\n",
    "    full_research.append(x)"
   ]
  },
  {
   "attachments": {},
   "cell_type": "markdown",
   "metadata": {},
   "source": [
    "### Showing Relevant Research"
   ]
  },
  {
   "cell_type": "code",
   "execution_count": 11,
   "metadata": {},
   "outputs": [
    {
     "data": {
      "text/html": [
       "<div>\n",
       "<style scoped>\n",
       "    .dataframe tbody tr th:only-of-type {\n",
       "        vertical-align: middle;\n",
       "    }\n",
       "\n",
       "    .dataframe tbody tr th {\n",
       "        vertical-align: top;\n",
       "    }\n",
       "\n",
       "    .dataframe thead th {\n",
       "        text-align: right;\n",
       "    }\n",
       "</style>\n",
       "<table border=\"1\" class=\"dataframe\">\n",
       "  <thead>\n",
       "    <tr style=\"text-align: right;\">\n",
       "      <th></th>\n",
       "      <th>_id</th>\n",
       "      <th>Evento Científico</th>\n",
       "      <th>Departamento</th>\n",
       "      <th>Línea de investigación</th>\n",
       "      <th>Investigación</th>\n",
       "      <th>Autor(es)</th>\n",
       "      <th>Categoría</th>\n",
       "      <th>Tiempo</th>\n",
       "    </tr>\n",
       "  </thead>\n",
       "  <tbody>\n",
       "    <tr>\n",
       "      <th>0</th>\n",
       "      <td>63bf3b9a995a0067ad750759</td>\n",
       "      <td>Maestría en Calidad de Software</td>\n",
       "      <td>Gestión de Software</td>\n",
       "      <td>Ingeniería de Software</td>\n",
       "      <td>Visualizador avanzado de modelos 3D para la web</td>\n",
       "      <td>Badia Valdés, José Emilio</td>\n",
       "      <td>Relevante</td>\n",
       "      <td>2021.0</td>\n",
       "    </tr>\n",
       "    <tr>\n",
       "      <th>1</th>\n",
       "      <td>63bf3b9a995a0067ad75075c</td>\n",
       "      <td>Taller internacional de Inteligencia Artificia...</td>\n",
       "      <td>Inteligencia artificial y computacional</td>\n",
       "      <td>Inteligencia Artificial</td>\n",
       "      <td>Cuba frente al Big Data y la Inteligencia Arti...</td>\n",
       "      <td>González Arencibia, Mario; Vázquez González, J...</td>\n",
       "      <td>Relevante</td>\n",
       "      <td>2016.0</td>\n",
       "    </tr>\n",
       "    <tr>\n",
       "      <th>2</th>\n",
       "      <td>63bf3b9a995a0067ad750761</td>\n",
       "      <td>Taller internacional de Enseñanza de las Cienc...</td>\n",
       "      <td>Humanidades</td>\n",
       "      <td>Tecnología educativa</td>\n",
       "      <td>Pruebas y herramientas para comprobar la acces...</td>\n",
       "      <td>Domecq Babie, Dayana</td>\n",
       "      <td>Relevante</td>\n",
       "      <td>2015.0</td>\n",
       "    </tr>\n",
       "    <tr>\n",
       "      <th>3</th>\n",
       "      <td>63bf3b9a995a0067ad750762</td>\n",
       "      <td>Taller internacional de Ciberseguridad</td>\n",
       "      <td>Seguridad Informática</td>\n",
       "      <td>Sistemas de Gestión de la Seguridad Informática</td>\n",
       "      <td>Enfoque transcultural de la ciberseguridad.</td>\n",
       "      <td>Batista Tellez, Raynel</td>\n",
       "      <td>Relevante</td>\n",
       "      <td>2016.0</td>\n",
       "    </tr>\n",
       "    <tr>\n",
       "      <th>4</th>\n",
       "      <td>63bf3b9a995a0067ad750767</td>\n",
       "      <td>Fórum de Historia</td>\n",
       "      <td>Humanidades</td>\n",
       "      <td>Desarrollo de aplicaciones móviles</td>\n",
       "      <td>Aplicaciones móviles de utilidad. Una priorida...</td>\n",
       "      <td>Morales Robaina, Jorge A; Pazos Martínez, Jorg...</td>\n",
       "      <td>Relevante</td>\n",
       "      <td>2022.0</td>\n",
       "    </tr>\n",
       "  </tbody>\n",
       "</table>\n",
       "</div>"
      ],
      "text/plain": [
       "                        _id  \\\n",
       "0  63bf3b9a995a0067ad750759   \n",
       "1  63bf3b9a995a0067ad75075c   \n",
       "2  63bf3b9a995a0067ad750761   \n",
       "3  63bf3b9a995a0067ad750762   \n",
       "4  63bf3b9a995a0067ad750767   \n",
       "\n",
       "                                   Evento Científico  \\\n",
       "0                    Maestría en Calidad de Software   \n",
       "1  Taller internacional de Inteligencia Artificia...   \n",
       "2  Taller internacional de Enseñanza de las Cienc...   \n",
       "3             Taller internacional de Ciberseguridad   \n",
       "4                                  Fórum de Historia   \n",
       "\n",
       "                              Departamento  \\\n",
       "0                      Gestión de Software   \n",
       "1  Inteligencia artificial y computacional   \n",
       "2                              Humanidades   \n",
       "3                    Seguridad Informática   \n",
       "4                              Humanidades   \n",
       "\n",
       "                            Línea de investigación  \\\n",
       "0                           Ingeniería de Software   \n",
       "1                          Inteligencia Artificial   \n",
       "2                             Tecnología educativa   \n",
       "3  Sistemas de Gestión de la Seguridad Informática   \n",
       "4               Desarrollo de aplicaciones móviles   \n",
       "\n",
       "                                       Investigación  \\\n",
       "0    Visualizador avanzado de modelos 3D para la web   \n",
       "1  Cuba frente al Big Data y la Inteligencia Arti...   \n",
       "2  Pruebas y herramientas para comprobar la acces...   \n",
       "3        Enfoque transcultural de la ciberseguridad.   \n",
       "4  Aplicaciones móviles de utilidad. Una priorida...   \n",
       "\n",
       "                                           Autor(es)  Categoría  Tiempo  \n",
       "0                          Badia Valdés, José Emilio  Relevante  2021.0  \n",
       "1  González Arencibia, Mario; Vázquez González, J...  Relevante  2016.0  \n",
       "2                               Domecq Babie, Dayana  Relevante  2015.0  \n",
       "3                             Batista Tellez, Raynel  Relevante  2016.0  \n",
       "4  Morales Robaina, Jorge A; Pazos Martínez, Jorg...  Relevante  2022.0  "
      ]
     },
     "execution_count": 11,
     "metadata": {},
     "output_type": "execute_result"
    }
   ],
   "source": [
    "df_rr = pd.DataFrame(relevant_research)\n",
    "df_rr.head()"
   ]
  },
  {
   "cell_type": "code",
   "execution_count": 12,
   "metadata": {},
   "outputs": [
    {
     "data": {
      "text/html": [
       "<div>\n",
       "<style scoped>\n",
       "    .dataframe tbody tr th:only-of-type {\n",
       "        vertical-align: middle;\n",
       "    }\n",
       "\n",
       "    .dataframe tbody tr th {\n",
       "        vertical-align: top;\n",
       "    }\n",
       "\n",
       "    .dataframe thead th {\n",
       "        text-align: right;\n",
       "    }\n",
       "</style>\n",
       "<table border=\"1\" class=\"dataframe\">\n",
       "  <thead>\n",
       "    <tr style=\"text-align: right;\">\n",
       "      <th></th>\n",
       "      <th>_id</th>\n",
       "      <th>Evento Científico</th>\n",
       "      <th>Departamento</th>\n",
       "      <th>Línea de investigación</th>\n",
       "      <th>Investigación</th>\n",
       "      <th>Autor(es)</th>\n",
       "      <th>Categoría</th>\n",
       "      <th>Tiempo</th>\n",
       "    </tr>\n",
       "  </thead>\n",
       "  <tbody>\n",
       "    <tr>\n",
       "      <th>0</th>\n",
       "      <td>63bf3b9a995a0067ad750759</td>\n",
       "      <td>Maestría en Calidad de Software</td>\n",
       "      <td>Gestión de Software</td>\n",
       "      <td>Ingeniería de Software</td>\n",
       "      <td>Visualizador avanzado de modelos 3D para la web</td>\n",
       "      <td>Badia Valdés, José Emilio</td>\n",
       "      <td>Relevante</td>\n",
       "      <td>2021.0</td>\n",
       "    </tr>\n",
       "    <tr>\n",
       "      <th>1</th>\n",
       "      <td>63bf3b9a995a0067ad75075a</td>\n",
       "      <td>Maestría en Informática Avanzada</td>\n",
       "      <td>Inteligencia artificial y computacional</td>\n",
       "      <td>Computación científica</td>\n",
       "      <td>La inteligencia Artificial en la edad Preescolar</td>\n",
       "      <td>Yanes Watson, Berta Irailis; Coca Bergolla, Yu...</td>\n",
       "      <td>Destacado</td>\n",
       "      <td>2020.0</td>\n",
       "    </tr>\n",
       "    <tr>\n",
       "      <th>2</th>\n",
       "      <td>63bf3b9a995a0067ad75075b</td>\n",
       "      <td>Taller internacional de Software Libre</td>\n",
       "      <td>Sistemas Digitales</td>\n",
       "      <td>Sistema Operativo</td>\n",
       "      <td>Software Libre para la educación e investigaci...</td>\n",
       "      <td>William Ricardo Rodríguez Dueñas</td>\n",
       "      <td>Mención</td>\n",
       "      <td>2014.0</td>\n",
       "    </tr>\n",
       "    <tr>\n",
       "      <th>3</th>\n",
       "      <td>63bf3b9a995a0067ad75075c</td>\n",
       "      <td>Taller internacional de Inteligencia Artificia...</td>\n",
       "      <td>Inteligencia artificial y computacional</td>\n",
       "      <td>Inteligencia Artificial</td>\n",
       "      <td>Cuba frente al Big Data y la Inteligencia Arti...</td>\n",
       "      <td>González Arencibia, Mario; Vázquez González, J...</td>\n",
       "      <td>Relevante</td>\n",
       "      <td>2016.0</td>\n",
       "    </tr>\n",
       "    <tr>\n",
       "      <th>4</th>\n",
       "      <td>63bf3b9a995a0067ad75075d</td>\n",
       "      <td>Taller internacional de Impacto de las TIC en ...</td>\n",
       "      <td>Informática</td>\n",
       "      <td>Internet de las cosas</td>\n",
       "      <td>Tendencies in augmented reality</td>\n",
       "      <td>Martín Amaro, Nayma; Pérez Pupo, Iliana</td>\n",
       "      <td>Mención</td>\n",
       "      <td>2021.0</td>\n",
       "    </tr>\n",
       "  </tbody>\n",
       "</table>\n",
       "</div>"
      ],
      "text/plain": [
       "                        _id  \\\n",
       "0  63bf3b9a995a0067ad750759   \n",
       "1  63bf3b9a995a0067ad75075a   \n",
       "2  63bf3b9a995a0067ad75075b   \n",
       "3  63bf3b9a995a0067ad75075c   \n",
       "4  63bf3b9a995a0067ad75075d   \n",
       "\n",
       "                                   Evento Científico  \\\n",
       "0                    Maestría en Calidad de Software   \n",
       "1                   Maestría en Informática Avanzada   \n",
       "2             Taller internacional de Software Libre   \n",
       "3  Taller internacional de Inteligencia Artificia...   \n",
       "4  Taller internacional de Impacto de las TIC en ...   \n",
       "\n",
       "                              Departamento   Línea de investigación  \\\n",
       "0                      Gestión de Software   Ingeniería de Software   \n",
       "1  Inteligencia artificial y computacional   Computación científica   \n",
       "2                       Sistemas Digitales        Sistema Operativo   \n",
       "3  Inteligencia artificial y computacional  Inteligencia Artificial   \n",
       "4                              Informática    Internet de las cosas   \n",
       "\n",
       "                                       Investigación  \\\n",
       "0    Visualizador avanzado de modelos 3D para la web   \n",
       "1   La inteligencia Artificial en la edad Preescolar   \n",
       "2  Software Libre para la educación e investigaci...   \n",
       "3  Cuba frente al Big Data y la Inteligencia Arti...   \n",
       "4                    Tendencies in augmented reality   \n",
       "\n",
       "                                           Autor(es)  Categoría  Tiempo  \n",
       "0                          Badia Valdés, José Emilio  Relevante  2021.0  \n",
       "1  Yanes Watson, Berta Irailis; Coca Bergolla, Yu...  Destacado  2020.0  \n",
       "2                   William Ricardo Rodríguez Dueñas    Mención  2014.0  \n",
       "3  González Arencibia, Mario; Vázquez González, J...  Relevante  2016.0  \n",
       "4            Martín Amaro, Nayma; Pérez Pupo, Iliana    Mención  2021.0  "
      ]
     },
     "execution_count": 12,
     "metadata": {},
     "output_type": "execute_result"
    }
   ],
   "source": [
    "df_fr = pd.DataFrame(full_research)\n",
    "df_fr.head()"
   ]
  },
  {
   "attachments": {},
   "cell_type": "markdown",
   "metadata": {},
   "source": [
    "### Queries\n"
   ]
  },
  {
   "cell_type": "code",
   "execution_count": 22,
   "metadata": {},
   "outputs": [
    {
     "data": {
      "text/html": [
       "<div>\n",
       "<style scoped>\n",
       "    .dataframe tbody tr th:only-of-type {\n",
       "        vertical-align: middle;\n",
       "    }\n",
       "\n",
       "    .dataframe tbody tr th {\n",
       "        vertical-align: top;\n",
       "    }\n",
       "\n",
       "    .dataframe thead th {\n",
       "        text-align: right;\n",
       "    }\n",
       "</style>\n",
       "<table border=\"1\" class=\"dataframe\">\n",
       "  <thead>\n",
       "    <tr style=\"text-align: right;\">\n",
       "      <th></th>\n",
       "      <th>_id</th>\n",
       "      <th>Evento Científico</th>\n",
       "      <th>Departamento</th>\n",
       "      <th>Línea de investigación</th>\n",
       "      <th>Investigación</th>\n",
       "      <th>Autor(es)</th>\n",
       "      <th>Categoría</th>\n",
       "      <th>Tiempo</th>\n",
       "    </tr>\n",
       "  </thead>\n",
       "  <tbody>\n",
       "    <tr>\n",
       "      <th>0</th>\n",
       "      <td>63bf3b9a995a0067ad75075b</td>\n",
       "      <td>Taller internacional de Software Libre</td>\n",
       "      <td>Sistemas Digitales</td>\n",
       "      <td>Sistema Operativo</td>\n",
       "      <td>Software Libre para la educación e investigaci...</td>\n",
       "      <td>William Ricardo Rodríguez Dueñas</td>\n",
       "      <td>Mención</td>\n",
       "      <td>2014.0</td>\n",
       "    </tr>\n",
       "    <tr>\n",
       "      <th>1</th>\n",
       "      <td>63bf4138fa86f66848299e62</td>\n",
       "      <td>Taller internacional de Software Libre</td>\n",
       "      <td>Sistemas Digitales</td>\n",
       "      <td>Sistema Operativo</td>\n",
       "      <td>Software Libre para la educación e investigaci...</td>\n",
       "      <td>William Ricardo Rodríguez Dueñas</td>\n",
       "      <td>Mención</td>\n",
       "      <td>2014.0</td>\n",
       "    </tr>\n",
       "    <tr>\n",
       "      <th>2</th>\n",
       "      <td>63c01ac54d6720e02ea7039f</td>\n",
       "      <td>Taller internacional de Software Libre</td>\n",
       "      <td>Sistemas Digitales</td>\n",
       "      <td>Sistema Operativo</td>\n",
       "      <td>Software Libre para la educación e investigaci...</td>\n",
       "      <td>William Ricardo Rodríguez Dueñas</td>\n",
       "      <td>Mención</td>\n",
       "      <td>2014.0</td>\n",
       "    </tr>\n",
       "  </tbody>\n",
       "</table>\n",
       "</div>"
      ],
      "text/plain": [
       "                        _id                       Evento Científico  \\\n",
       "0  63bf3b9a995a0067ad75075b  Taller internacional de Software Libre   \n",
       "1  63bf4138fa86f66848299e62  Taller internacional de Software Libre   \n",
       "2  63c01ac54d6720e02ea7039f  Taller internacional de Software Libre   \n",
       "\n",
       "         Departamento Línea de investigación  \\\n",
       "0  Sistemas Digitales      Sistema Operativo   \n",
       "1  Sistemas Digitales      Sistema Operativo   \n",
       "2  Sistemas Digitales      Sistema Operativo   \n",
       "\n",
       "                                       Investigación  \\\n",
       "0  Software Libre para la educación e investigaci...   \n",
       "1  Software Libre para la educación e investigaci...   \n",
       "2  Software Libre para la educación e investigaci...   \n",
       "\n",
       "                          Autor(es) Categoría  Tiempo  \n",
       "0  William Ricardo Rodríguez Dueñas   Mención  2014.0  \n",
       "1  William Ricardo Rodríguez Dueñas   Mención  2014.0  \n",
       "2  William Ricardo Rodríguez Dueñas   Mención  2014.0  "
      ]
     },
     "execution_count": 22,
     "metadata": {},
     "output_type": "execute_result"
    }
   ],
   "source": [
    "# Sistemas Digitales\n",
    "lis12 = []\n",
    "for x in collection.find({'Departamento':'Sistemas Digitales'}):\n",
    "    lis12.append(x)\n",
    "pd.DataFrame(lis12)"
   ]
  },
  {
   "cell_type": "code",
   "execution_count": 30,
   "metadata": {},
   "outputs": [
    {
     "name": "stdout",
     "output_type": "stream",
     "text": [
      "Distinct Autor(es) en la Categoria de Relevante\n"
     ]
    },
    {
     "data": {
      "text/html": [
       "<div>\n",
       "<style scoped>\n",
       "    .dataframe tbody tr th:only-of-type {\n",
       "        vertical-align: middle;\n",
       "    }\n",
       "\n",
       "    .dataframe tbody tr th {\n",
       "        vertical-align: top;\n",
       "    }\n",
       "\n",
       "    .dataframe thead th {\n",
       "        text-align: right;\n",
       "    }\n",
       "</style>\n",
       "<table border=\"1\" class=\"dataframe\">\n",
       "  <thead>\n",
       "    <tr style=\"text-align: right;\">\n",
       "      <th></th>\n",
       "      <th>0</th>\n",
       "    </tr>\n",
       "  </thead>\n",
       "  <tbody>\n",
       "    <tr>\n",
       "      <th>0</th>\n",
       "      <td>Badia Valdés, José Emilio</td>\n",
       "    </tr>\n",
       "    <tr>\n",
       "      <th>1</th>\n",
       "      <td>Batista Tellez, Raynel</td>\n",
       "    </tr>\n",
       "    <tr>\n",
       "      <th>2</th>\n",
       "      <td>Daydé, Michel</td>\n",
       "    </tr>\n",
       "    <tr>\n",
       "      <th>3</th>\n",
       "      <td>Delgado Fernández, Tatiana; Febles Estrada, Aylin</td>\n",
       "    </tr>\n",
       "    <tr>\n",
       "      <th>4</th>\n",
       "      <td>Domecq Babie, Dayana</td>\n",
       "    </tr>\n",
       "    <tr>\n",
       "      <th>5</th>\n",
       "      <td>García Vega, Madelayne</td>\n",
       "    </tr>\n",
       "    <tr>\n",
       "      <th>6</th>\n",
       "      <td>González Arencibia, Mario; Vázquez González, J...</td>\n",
       "    </tr>\n",
       "    <tr>\n",
       "      <th>7</th>\n",
       "      <td>Guará Faure, Danay; Verdecia Rondón, Adriana; ...</td>\n",
       "    </tr>\n",
       "    <tr>\n",
       "      <th>8</th>\n",
       "      <td>Morales Robaina, Jorge A; Pazos Martínez, Jorg...</td>\n",
       "    </tr>\n",
       "    <tr>\n",
       "      <th>9</th>\n",
       "      <td>Reyes de Jesús, Jenny Esther</td>\n",
       "    </tr>\n",
       "  </tbody>\n",
       "</table>\n",
       "</div>"
      ],
      "text/plain": [
       "                                                   0\n",
       "0                          Badia Valdés, José Emilio\n",
       "1                             Batista Tellez, Raynel\n",
       "2                                      Daydé, Michel\n",
       "3  Delgado Fernández, Tatiana; Febles Estrada, Aylin\n",
       "4                               Domecq Babie, Dayana\n",
       "5                             García Vega, Madelayne\n",
       "6  González Arencibia, Mario; Vázquez González, J...\n",
       "7  Guará Faure, Danay; Verdecia Rondón, Adriana; ...\n",
       "8  Morales Robaina, Jorge A; Pazos Martínez, Jorg...\n",
       "9                       Reyes de Jesús, Jenny Esther"
      ]
     },
     "execution_count": 30,
     "metadata": {},
     "output_type": "execute_result"
    }
   ],
   "source": [
    "# Distinct \n",
    "print('Distinct Autor(es) en la Categoria de Relevante')\n",
    "df_aut = pd.DataFrame(collection.distinct('Autor(es)', {'Categoría':'Relevante'}))\n",
    "df_aut"
   ]
  },
  {
   "attachments": {},
   "cell_type": "markdown",
   "metadata": {},
   "source": [
    "### Visualisation"
   ]
  },
  {
   "cell_type": "code",
   "execution_count": 13,
   "metadata": {},
   "outputs": [
    {
     "data": {
      "text/html": [
       "<div>\n",
       "<style scoped>\n",
       "    .dataframe tbody tr th:only-of-type {\n",
       "        vertical-align: middle;\n",
       "    }\n",
       "\n",
       "    .dataframe tbody tr th {\n",
       "        vertical-align: top;\n",
       "    }\n",
       "\n",
       "    .dataframe thead th {\n",
       "        text-align: right;\n",
       "    }\n",
       "</style>\n",
       "<table border=\"1\" class=\"dataframe\">\n",
       "  <thead>\n",
       "    <tr style=\"text-align: right;\">\n",
       "      <th></th>\n",
       "      <th>Evento Científico</th>\n",
       "      <th>Departamento</th>\n",
       "      <th>Línea de investigación</th>\n",
       "      <th>Investigación</th>\n",
       "      <th>Autor(es)</th>\n",
       "      <th>Categoría</th>\n",
       "    </tr>\n",
       "  </thead>\n",
       "  <tbody>\n",
       "    <tr>\n",
       "      <th>count</th>\n",
       "      <td>87</td>\n",
       "      <td>87</td>\n",
       "      <td>87</td>\n",
       "      <td>87</td>\n",
       "      <td>87</td>\n",
       "      <td>87</td>\n",
       "    </tr>\n",
       "    <tr>\n",
       "      <th>unique</th>\n",
       "      <td>29</td>\n",
       "      <td>9</td>\n",
       "      <td>19</td>\n",
       "      <td>28</td>\n",
       "      <td>28</td>\n",
       "      <td>3</td>\n",
       "    </tr>\n",
       "    <tr>\n",
       "      <th>top</th>\n",
       "      <td>Maestría en Calidad de Software</td>\n",
       "      <td>Informática</td>\n",
       "      <td>Computación científica</td>\n",
       "      <td>Aplicaciones móviles de utilidad. Una priorida...</td>\n",
       "      <td>Morales Robaina, Jorge A; Pazos Martínez, Jorg...</td>\n",
       "      <td>Relevante</td>\n",
       "    </tr>\n",
       "    <tr>\n",
       "      <th>freq</th>\n",
       "      <td>3</td>\n",
       "      <td>21</td>\n",
       "      <td>15</td>\n",
       "      <td>6</td>\n",
       "      <td>6</td>\n",
       "      <td>33</td>\n",
       "    </tr>\n",
       "  </tbody>\n",
       "</table>\n",
       "</div>"
      ],
      "text/plain": [
       "                      Evento Científico Departamento  Línea de investigación  \\\n",
       "count                                87           87                      87   \n",
       "unique                               29            9                      19   \n",
       "top     Maestría en Calidad de Software  Informática  Computación científica   \n",
       "freq                                  3           21                      15   \n",
       "\n",
       "                                            Investigación  \\\n",
       "count                                                  87   \n",
       "unique                                                 28   \n",
       "top     Aplicaciones móviles de utilidad. Una priorida...   \n",
       "freq                                                    6   \n",
       "\n",
       "                                                Autor(es)  Categoría  \n",
       "count                                                  87         87  \n",
       "unique                                                 28          3  \n",
       "top     Morales Robaina, Jorge A; Pazos Martínez, Jorg...  Relevante  \n",
       "freq                                                    6         33  "
      ]
     },
     "execution_count": 13,
     "metadata": {},
     "output_type": "execute_result"
    }
   ],
   "source": [
    "# Ploting\n",
    "df_str = df_fr\n",
    "del df_str['Tiempo']\n",
    "del df_str['_id']\n",
    "df_str.describe()"
   ]
  },
  {
   "cell_type": "code",
   "execution_count": 14,
   "metadata": {},
   "outputs": [
    {
     "data": {
      "text/html": [
       "<div>\n",
       "<style scoped>\n",
       "    .dataframe tbody tr th:only-of-type {\n",
       "        vertical-align: middle;\n",
       "    }\n",
       "\n",
       "    .dataframe tbody tr th {\n",
       "        vertical-align: top;\n",
       "    }\n",
       "\n",
       "    .dataframe thead th {\n",
       "        text-align: right;\n",
       "    }\n",
       "</style>\n",
       "<table border=\"1\" class=\"dataframe\">\n",
       "  <thead>\n",
       "    <tr style=\"text-align: right;\">\n",
       "      <th></th>\n",
       "      <th>count</th>\n",
       "      <th>unique</th>\n",
       "      <th>freq</th>\n",
       "    </tr>\n",
       "  </thead>\n",
       "  <tbody>\n",
       "    <tr>\n",
       "      <th>Evento Científico</th>\n",
       "      <td>87</td>\n",
       "      <td>29</td>\n",
       "      <td>3</td>\n",
       "    </tr>\n",
       "    <tr>\n",
       "      <th>Departamento</th>\n",
       "      <td>87</td>\n",
       "      <td>9</td>\n",
       "      <td>21</td>\n",
       "    </tr>\n",
       "    <tr>\n",
       "      <th>Línea de investigación</th>\n",
       "      <td>87</td>\n",
       "      <td>19</td>\n",
       "      <td>15</td>\n",
       "    </tr>\n",
       "    <tr>\n",
       "      <th>Investigación</th>\n",
       "      <td>87</td>\n",
       "      <td>28</td>\n",
       "      <td>6</td>\n",
       "    </tr>\n",
       "    <tr>\n",
       "      <th>Autor(es)</th>\n",
       "      <td>87</td>\n",
       "      <td>28</td>\n",
       "      <td>6</td>\n",
       "    </tr>\n",
       "  </tbody>\n",
       "</table>\n",
       "</div>"
      ],
      "text/plain": [
       "                       count unique freq\n",
       "Evento Científico         87     29    3\n",
       "Departamento              87      9   21\n",
       "Línea de investigación    87     19   15\n",
       "Investigación             87     28    6\n",
       "Autor(es)                 87     28    6"
      ]
     },
     "execution_count": 14,
     "metadata": {},
     "output_type": "execute_result"
    }
   ],
   "source": [
    "descr = df_str.describe().T\n",
    "del descr['top']\n",
    "descr.head()"
   ]
  },
  {
   "cell_type": "code",
   "execution_count": 15,
   "metadata": {},
   "outputs": [
    {
     "data": {
      "image/png": "[encoded data removed]",
      "text/plain": [
       "<Figure size 640x480 with 1 Axes>"
      ]
     },
     "metadata": {},
     "output_type": "display_data"
    }
   ],
   "source": [
    "plt.bar(descr.index, descr['unique'])\n",
    "plt.title('Cantidad de Valores Unicos en las Variables de la Colleccion')\n",
    "plt.xlabel('Variables')\n",
    "plt.ylabel('Cantidad de Valores Unicos')\n",
    "plt.xticks(rotation=45)\n",
    "plt.grid(True)\n",
    "plt.show()"
   ]
  },
  {
   "cell_type": "code",
   "execution_count": 16,
   "metadata": {},
   "outputs": [
    {
     "data": {
      "image/png": "[encoded data removed]",
      "text/plain": [
       "<Figure size 640x480 with 1 Axes>"
      ]
     },
     "metadata": {},
     "output_type": "display_data"
    }
   ],
   "source": [
    "# Plot a histogram of emissions per capita by country\n",
    "## Subplots returns a touple with the figure, axis attributes.\n",
    "\n",
    "# Histogram Plot\n",
    "plt.hist(df_str['Departamento'],9)\n",
    "# Plot Config\n",
    "plt.title('Histograma de Categorias')\n",
    "plt.xticks(rotation = 90)\n",
    "plt.xlabel('Departamento')\n",
    "plt.ylabel('Cantidad')\n",
    "plt.grid(True)"
   ]
  }
 ],
 "metadata": {
  "kernelspec": {
   "display_name": "Python 3",
   "language": "python",
   "name": "python3"
  },
  "language_info": {
   "codemirror_mode": {
    "name": "ipython",
    "version": 3
   },
   "file_extension": ".py",
   "mimetype": "text/x-python",
   "name": "python",
   "nbconvert_exporter": "python",
   "pygments_lexer": "ipython3",
   "version": "3.10.7"
  },
  "orig_nbformat": 4,
  "vscode": {
   "interpreter": {
    "hash": "84a0dc58f999e7ff1d378744ded0f8743387b0e251901e059ca9de0da54fdd20"
   }
  }
 },
 "nbformat": 4,
 "nbformat_minor": 2
}
